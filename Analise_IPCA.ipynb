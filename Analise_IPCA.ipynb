{
 "cells": [
  {
   "cell_type": "markdown",
   "metadata": {
    "application/vnd.databricks.v1+cell": {
     "cellMetadata": {
      "byteLimit": 2048000,
      "rowLimit": 10000
     },
     "inputWidgets": {},
     "nuid": "1b204342-c7ee-405f-b7a0-ab764fec137a",
     "showTitle": false,
     "tableResultSettingsMap": {},
     "title": ""
    }
   },
   "source": [
    "<b>Importação das bibliotecas</b>"
   ]
  },
  {
   "cell_type": "code",
   "execution_count": 0,
   "metadata": {
    "application/vnd.databricks.v1+cell": {
     "cellMetadata": {
      "byteLimit": 2048000,
      "rowLimit": 10000
     },
     "inputWidgets": {},
     "nuid": "875c4313-9007-45f9-86c5-0e0223a941d4",
     "showTitle": false,
     "tableResultSettingsMap": {},
     "title": ""
    }
   },
   "outputs": [],
   "source": [
    "# Importação do método SparkSession e functions da biblioteca pyspark\n",
    "from pyspark.sql import SparkSession, functions as f\n",
    "\n",
    "# Instalação e importação da biblioteca request para invocar a URL\n",
    "import requests\n",
    "\n",
    "# Importação da biblioteca json para leitura do formato do dataset\n",
    "import json\n",
    "\n",
    "# Importação da biblioteca pandas para manipulação dos dados\n",
    "#import pandas as pd\n",
    "\n",
    "# Importação dos métodos datetime e timedelta da biblioteca datetime para manipulação e cálculos de data\n",
    "from datetime import datetime, timedelta"
   ]
  },
  {
   "cell_type": "markdown",
   "metadata": {
    "application/vnd.databricks.v1+cell": {
     "cellMetadata": {
      "byteLimit": 2048000,
      "rowLimit": 10000
     },
     "inputWidgets": {},
     "nuid": "6d02c256-9398-478d-83b4-4df0290d3c9b",
     "showTitle": false,
     "tableResultSettingsMap": {},
     "title": ""
    }
   },
   "source": [
    "<b>Extração dos dados via API, criação de variáveis e da sessão Spark</b><br>\n",
    "<b>Filtro: </b>IPCA dos útimos 30 anos com base na data de execução."
   ]
  },
  {
   "cell_type": "code",
   "execution_count": 0,
   "metadata": {
    "application/vnd.databricks.v1+cell": {
     "cellMetadata": {
      "byteLimit": 2048000,
      "rowLimit": 10000
     },
     "inputWidgets": {},
     "nuid": "60f104ba-d920-465a-a8ed-e043a6582575",
     "showTitle": false,
     "tableResultSettingsMap": {},
     "title": ""
    }
   },
   "outputs": [],
   "source": [
    "# Cria a uma sessão spark\n",
    "spark = SparkSession.builder.appName(\"Analise_IPCA\").getOrCreate()\n",
    "\n",
    "# Cria a variável dataIncial para obter a data de execução\n",
    "dataFinal = datetime.today().date()\n",
    "\n",
    "# A partir da data de execução, identifico o mês anterior para obter os dados da API\n",
    "dataFinal = datetime(dataFinal.year, dataFinal.month, 1) - timedelta(days = 1)\n",
    "\n",
    "# Então realizo com base no primeiro período, a subtração de 30 anos\n",
    "dataInicial = datetime(dataFinal.year-30, 1, 1)\n",
    "\n",
    "# Padronização de datas para inserção nos filtros da API\n",
    "dataInicial = dataInicial.strftime('%d/%m/%Y')\n",
    "dataFinal = dataFinal.strftime('%d/%m/%Y')\n",
    "\n",
    "# Requisição dos dados da API já com os filtros\n",
    "url = f\"https://api.bcb.gov.br/dados/serie/bcdata.sgs.10844/dados?formato=json&dataInicial={dataInicial}&dataFinal={dataFinal}\"\n",
    "resp = requests.get(url)\n",
    "\n",
    "# Validação da requisição da API\n",
    "if resp.status_code == 200:\n",
    "    dadosAPI = resp.json() # Atribui a resposta do requests em json na variável dadosAPI\n",
    "else:\n",
    "    raise Exception(f\"Erro ao acessar a API. Status: {resp.status_code}\") # Informa a mensagem de Erro ao acessar APi com o código do erro"
   ]
  },
  {
   "cell_type": "markdown",
   "metadata": {
    "application/vnd.databricks.v1+cell": {
     "cellMetadata": {
      "byteLimit": 2048000,
      "rowLimit": 10000
     },
     "inputWidgets": {},
     "nuid": "45bb7814-cc2b-4d63-921a-c6f7b169d8cb",
     "showTitle": false,
     "tableResultSettingsMap": {},
     "title": ""
    }
   },
   "source": [
    "<b>Transformação dos dados</b><br>\n",
    "Criação de Dataframe, definição dos tipos de campo, criação de novos campos e etc.."
   ]
  },
  {
   "cell_type": "code",
   "execution_count": 0,
   "metadata": {
    "application/vnd.databricks.v1+cell": {
     "cellMetadata": {
      "byteLimit": 2048000,
      "rowLimit": 10000
     },
     "inputWidgets": {},
     "nuid": "8c780536-c8a5-4692-90ba-d4128ff495a0",
     "showTitle": false,
     "tableResultSettingsMap": {},
     "title": ""
    }
   },
   "outputs": [
    {
     "output_type": "stream",
     "name": "stdout",
     "output_type": "stream",
     "text": [
      "+----------+-----+\n|      data|valor|\n+----------+-----+\n|01/01/1995| 5.18|\n|01/02/1995| 3.09|\n|01/03/1995| 3.83|\n|01/04/1995| 4.29|\n|01/05/1995| 6.91|\n|01/06/1995| 4.38|\n|01/07/1995| 3.90|\n|01/08/1995| 3.31|\n|01/09/1995| 2.85|\n|01/10/1995| 2.47|\n|01/11/1995| 2.71|\n|01/12/1995| 2.28|\n|01/01/1996| 2.20|\n|01/02/1996| 2.32|\n|01/03/1996| 1.63|\n|01/04/1996| 1.40|\n|01/05/1996| 2.21|\n|01/06/1996| 1.54|\n|01/07/1996| 1.41|\n|01/08/1996| 1.43|\n+----------+-----+\nonly showing top 20 rows\n\n"
     ]
    }
   ],
   "source": [
    "# Criação do dataframe com os dados json para manipulação dos dados\n",
    "df_API = spark.createDataFrame(dadosAPI)\n",
    "\n",
    "# Por apenas haver poucos registros, utilizei este print para validar:\n",
    "# a criação do dataframe e seu layout \n",
    "# importação de TODOS os dados devidamente \n",
    "df_API.show()"
   ]
  },
  {
   "cell_type": "code",
   "execution_count": 0,
   "metadata": {
    "application/vnd.databricks.v1+cell": {
     "cellMetadata": {
      "byteLimit": 2048000,
      "rowLimit": 10000
     },
     "inputWidgets": {},
     "nuid": "27ad7d59-7c39-41d0-9096-3f5832bfd3b0",
     "showTitle": false,
     "tableResultSettingsMap": {},
     "title": ""
    }
   },
   "outputs": [
    {
     "output_type": "stream",
     "name": "stdout",
     "output_type": "stream",
     "text": [
      "root\n |-- data: date (nullable = true)\n |-- ipca_mensal: double (nullable = true)\n |-- ano: integer (nullable = true)\n |-- data_importacao: date (nullable = false)\n\n"
     ]
    }
   ],
   "source": [
    "# Tratamento dos campos importados e seus \"data types\"\n",
    "# Iniciando pelo campo data tipo data\n",
    "df_API = df_API.withColumn(\"data\", f.to_date(\"data\", \"dd/MM/yyyy\"))\n",
    "\n",
    "# E finalizando com o campo valor tipo float com 2 casas decimais\n",
    "# E renomeando o campo valor para ipca_mensal\n",
    "df_API = df_API.withColumn(\"valor\", f.floor(f.col(\"valor\").cast(\"float\") * 100)/100)\n",
    "df_API = df_API.withColumnRenamed(\"valor\", \"ipca_mensal\")\n",
    "\n",
    "# Cria uma nova coluna com o ano de cada período\n",
    "df_API = df_API.withColumn(\"ano\", f.year(\"data\"))\n",
    "\n",
    "# Cria uma nova coluna com a data de execução da consulta na API\n",
    "df_API = df_API.withColumn(\"data_importacao\", f.current_date())\n",
    "\n",
    "# Ordenação dos campos por ano e validação das \"tipagens\" dos campos\n",
    "df_API = df_API.orderBy(\"ano\")\n",
    "df_API.printSchema()"
   ]
  },
  {
   "cell_type": "markdown",
   "metadata": {
    "application/vnd.databricks.v1+cell": {
     "cellMetadata": {
      "byteLimit": 2048000,
      "rowLimit": 10000
     },
     "inputWidgets": {},
     "nuid": "bbe9cdc8-4fcf-44a1-95f8-795edab480d5",
     "showTitle": false,
     "tableResultSettingsMap": {},
     "title": ""
    }
   },
   "source": [
    "<b>Criação da regra de negócio</b><br>\n",
    "Cálculo do IPCA anual para aplicar a fórmula de multiplicação dos fatores nos períodos de Janeiro à Dezembro de cada ano.<br>\n",
    "Fórmula: Acumulado = ((1 + ipca_mes_01 / 100) * (1 + ipca_mes_02 / 100)...(1 + ipca_mes_n / 100) - 1) * 100"
   ]
  },
  {
   "cell_type": "code",
   "execution_count": 0,
   "metadata": {
    "application/vnd.databricks.v1+cell": {
     "cellMetadata": {
      "byteLimit": 2048000,
      "rowLimit": 10000
     },
     "inputWidgets": {},
     "nuid": "357084ce-aa8b-4ec6-a566-483098a7bd91",
     "showTitle": false,
     "tableResultSettingsMap": {},
     "title": ""
    }
   },
   "outputs": [],
   "source": [
    "# Função para o cálculo do IPCA\n",
    "def calc_acu(ipca):\n",
    "    return (f.exp(f.sum(f.log(1 + ipca / 100))) - 1) * 100"
   ]
  },
  {
   "cell_type": "markdown",
   "metadata": {
    "application/vnd.databricks.v1+cell": {
     "cellMetadata": {
      "byteLimit": 2048000,
      "rowLimit": 10000
     },
     "inputWidgets": {},
     "nuid": "3dffd21f-a60b-494a-b084-3e5f2be3b5a4",
     "showTitle": false,
     "tableResultSettingsMap": {},
     "title": ""
    }
   },
   "source": [
    "<b>Resultado</b><br>\n",
    "Como na etapa de <i>Transformação dos dados </i> já havia criado a coluna ano, agora vou apenas aplica a função."
   ]
  },
  {
   "cell_type": "code",
   "execution_count": 0,
   "metadata": {
    "application/vnd.databricks.v1+cell": {
     "cellMetadata": {
      "byteLimit": 2048000,
      "rowLimit": 10000
     },
     "inputWidgets": {},
     "nuid": "17c48458-2932-420e-800c-1e3182ff73f9",
     "showTitle": false,
     "tableResultSettingsMap": {},
     "title": ""
    }
   },
   "outputs": [
    {
     "output_type": "stream",
     "name": "stdout",
     "output_type": "stream",
     "text": [
      "+---------------+----+--------------+\n|data_importacao| ano|ipca_acumulado|\n+---------------+----+--------------+\n|     2025-02-03|1995|          55.7|\n|     2025-02-03|1996|         18.76|\n|     2025-02-03|1997|           6.2|\n|     2025-02-03|1998|          1.55|\n|     2025-02-03|1999|          1.34|\n|     2025-02-03|2000|          3.12|\n|     2025-02-03|2001|          4.86|\n|     2025-02-03|2002|          5.54|\n|     2025-02-03|2003|          7.31|\n|     2025-02-03|2004|          6.65|\n|     2025-02-03|2005|          6.76|\n|     2025-02-03|2006|          5.48|\n|     2025-02-03|2007|          5.17|\n|     2025-02-03|2008|          6.38|\n|     2025-02-03|2009|          6.35|\n|     2025-02-03|2010|          7.61|\n|     2025-02-03|2011|          8.98|\n|     2025-02-03|2012|          8.73|\n|     2025-02-03|2013|          8.74|\n|     2025-02-03|2014|          8.32|\n+---------------+----+--------------+\nonly showing top 20 rows\n\n"
     ]
    }
   ],
   "source": [
    "# Aplica a função de cálculo do IPCA no campo ipca_mensal e utiliza como agrupador o campo ano\n",
    "df_Acumulado_Anual = (df_API\n",
    "                    .groupBy(\"data_importacao\", \"ano\")  # Agrupar por ano\n",
    "                    .agg(calc_acu(f.col(\"ipca_mensal\")).alias(\"ipca_acumulado\"))  # Aplicar a função calc_acu na coluna 'ipca'\n",
    "                    .orderBy(\"ano\")\n",
    "                    )\n",
    "\n",
    "# Padroniza o campo ipca_acumulado com 2 casas decimais\n",
    "df_Acumulado_Anual = df_Acumulado_Anual.withColumn(\"ipca_acumulado\", f.floor(f.col(\"ipca_acumulado\") * 100)/100)\n",
    "\n",
    "# Print dos dados padronizados\n",
    "df_Acumulado_Anual.show()"
   ]
  },
  {
   "cell_type": "markdown",
   "metadata": {
    "application/vnd.databricks.v1+cell": {
     "cellMetadata": {
      "byteLimit": 2048000,
      "rowLimit": 10000
     },
     "inputWidgets": {},
     "nuid": "648decae-3708-4b92-a714-88fa4d1400e9",
     "showTitle": false,
     "tableResultSettingsMap": {},
     "title": ""
    }
   },
   "source": [
    "<b>Carga dos dados na tabela Delta Lake</b>"
   ]
  },
  {
   "cell_type": "code",
   "execution_count": 0,
   "metadata": {
    "application/vnd.databricks.v1+cell": {
     "cellMetadata": {
      "byteLimit": 2048000,
      "rowLimit": 10000
     },
     "inputWidgets": {},
     "nuid": "273189ef-3f7e-4c4e-9059-4e367d71929e",
     "showTitle": false,
     "tableResultSettingsMap": {},
     "title": ""
    }
   },
   "outputs": [
    {
     "output_type": "display_data",
     "data": {
      "text/html": [
       "<style scoped>\n",
       "  .table-result-container {\n",
       "    max-height: 300px;\n",
       "    overflow: auto;\n",
       "  }\n",
       "  table, th, td {\n",
       "    border: 1px solid black;\n",
       "    border-collapse: collapse;\n",
       "  }\n",
       "  th, td {\n",
       "    padding: 5px;\n",
       "  }\n",
       "  th {\n",
       "    text-align: left;\n",
       "  }\n",
       "</style><div class='table-result-container'><table class='table-result'><thead style='background-color: white'><tr><th>data</th><th>ipca_mensal</th><th>ano</th><th>data_importacao</th></tr></thead><tbody><tr><td>1995-01-01</td><td>5.18</td><td>1995</td><td>2025-02-03</td></tr><tr><td>1995-02-01</td><td>3.09</td><td>1995</td><td>2025-02-03</td></tr><tr><td>1995-03-01</td><td>3.83</td><td>1995</td><td>2025-02-03</td></tr><tr><td>1995-04-01</td><td>4.29</td><td>1995</td><td>2025-02-03</td></tr><tr><td>1995-05-01</td><td>6.91</td><td>1995</td><td>2025-02-03</td></tr><tr><td>1995-06-01</td><td>4.38</td><td>1995</td><td>2025-02-03</td></tr><tr><td>1995-07-01</td><td>3.9</td><td>1995</td><td>2025-02-03</td></tr><tr><td>1995-08-01</td><td>3.31</td><td>1995</td><td>2025-02-03</td></tr><tr><td>1995-09-01</td><td>2.85</td><td>1995</td><td>2025-02-03</td></tr><tr><td>1995-10-01</td><td>2.47</td><td>1995</td><td>2025-02-03</td></tr><tr><td>1995-11-01</td><td>2.71</td><td>1995</td><td>2025-02-03</td></tr><tr><td>1995-12-01</td><td>2.28</td><td>1995</td><td>2025-02-03</td></tr><tr><td>1996-01-01</td><td>2.2</td><td>1996</td><td>2025-02-03</td></tr><tr><td>1996-02-01</td><td>2.32</td><td>1996</td><td>2025-02-03</td></tr><tr><td>1996-03-01</td><td>1.63</td><td>1996</td><td>2025-02-03</td></tr><tr><td>1996-04-01</td><td>1.4</td><td>1996</td><td>2025-02-03</td></tr><tr><td>1996-05-01</td><td>2.21</td><td>1996</td><td>2025-02-03</td></tr><tr><td>1996-06-01</td><td>1.54</td><td>1996</td><td>2025-02-03</td></tr><tr><td>1996-07-01</td><td>1.41</td><td>1996</td><td>2025-02-03</td></tr><tr><td>1996-08-01</td><td>1.43</td><td>1996</td><td>2025-02-03</td></tr><tr><td>1996-09-01</td><td>1.02</td><td>1996</td><td>2025-02-03</td></tr><tr><td>1996-10-01</td><td>0.62</td><td>1996</td><td>2025-02-03</td></tr><tr><td>1996-11-01</td><td>0.83</td><td>1996</td><td>2025-02-03</td></tr><tr><td>1996-12-01</td><td>0.73</td><td>1996</td><td>2025-02-03</td></tr><tr><td>1997-01-01</td><td>1.02</td><td>1997</td><td>2025-02-03</td></tr><tr><td>1997-02-01</td><td>0.99</td><td>1997</td><td>2025-02-03</td></tr><tr><td>1997-03-01</td><td>0.45</td><td>1997</td><td>2025-02-03</td></tr><tr><td>1997-04-01</td><td>0.73</td><td>1997</td><td>2025-02-03</td></tr><tr><td>1997-05-01</td><td>0.87</td><td>1997</td><td>2025-02-03</td></tr><tr><td>1997-06-01</td><td>0.58</td><td>1997</td><td>2025-02-03</td></tr><tr><td>1997-07-01</td><td>0.57</td><td>1997</td><td>2025-02-03</td></tr><tr><td>1997-08-01</td><td>0.39</td><td>1997</td><td>2025-02-03</td></tr><tr><td>1997-09-01</td><td>0.12</td><td>1997</td><td>2025-02-03</td></tr><tr><td>1997-10-01</td><td>0.19</td><td>1997</td><td>2025-02-03</td></tr><tr><td>1997-11-01</td><td>0.05</td><td>1997</td><td>2025-02-03</td></tr><tr><td>1997-12-01</td><td>0.08</td><td>1997</td><td>2025-02-03</td></tr><tr><td>1998-10-01</td><td>-0.1</td><td>1998</td><td>2025-02-03</td></tr><tr><td>1998-01-01</td><td>0.4</td><td>1998</td><td>2025-02-03</td></tr><tr><td>1998-11-01</td><td>0.0</td><td>1998</td><td>2025-02-03</td></tr><tr><td>1998-02-01</td><td>0.52</td><td>1998</td><td>2025-02-03</td></tr><tr><td>1998-12-01</td><td>0.04</td><td>1998</td><td>2025-02-03</td></tr><tr><td>1998-03-01</td><td>0.16</td><td>1998</td><td>2025-02-03</td></tr><tr><td>1998-04-01</td><td>0.03</td><td>1998</td><td>2025-02-03</td></tr><tr><td>1998-05-01</td><td>0.56</td><td>1998</td><td>2025-02-03</td></tr><tr><td>1998-06-01</td><td>-0.18</td><td>1998</td><td>2025-02-03</td></tr><tr><td>1998-07-01</td><td>0.26</td><td>1998</td><td>2025-02-03</td></tr><tr><td>1998-08-01</td><td>0.0</td><td>1998</td><td>2025-02-03</td></tr><tr><td>1998-09-01</td><td>-0.14</td><td>1998</td><td>2025-02-03</td></tr><tr><td>1999-01-01</td><td>0.49</td><td>1999</td><td>2025-02-03</td></tr><tr><td>1999-02-01</td><td>-0.36</td><td>1999</td><td>2025-02-03</td></tr><tr><td>1999-03-01</td><td>0.26</td><td>1999</td><td>2025-02-03</td></tr><tr><td>1999-04-01</td><td>0.1</td><td>1999</td><td>2025-02-03</td></tr><tr><td>1999-05-01</td><td>0.22</td><td>1999</td><td>2025-02-03</td></tr><tr><td>1999-06-01</td><td>0.21</td><td>1999</td><td>2025-02-03</td></tr><tr><td>1999-07-01</td><td>0.04</td><td>1999</td><td>2025-02-03</td></tr><tr><td>1999-08-01</td><td>0.1</td><td>1999</td><td>2025-02-03</td></tr><tr><td>1999-09-01</td><td>-0.1</td><td>1999</td><td>2025-02-03</td></tr><tr><td>1999-10-01</td><td>0.01</td><td>1999</td><td>2025-02-03</td></tr><tr><td>1999-11-01</td><td>0.09</td><td>1999</td><td>2025-02-03</td></tr><tr><td>1999-12-01</td><td>0.28</td><td>1999</td><td>2025-02-03</td></tr><tr><td>2000-01-01</td><td>0.69</td><td>2000</td><td>2025-02-03</td></tr><tr><td>2000-02-01</td><td>0.38</td><td>2000</td><td>2025-02-03</td></tr><tr><td>2000-03-01</td><td>-0.11</td><td>2000</td><td>2025-02-03</td></tr><tr><td>2000-04-01</td><td>1.47</td><td>2000</td><td>2025-02-03</td></tr><tr><td>2000-05-01</td><td>-0.07</td><td>2000</td><td>2025-02-03</td></tr><tr><td>2000-06-01</td><td>0.0</td><td>2000</td><td>2025-02-03</td></tr><tr><td>2000-07-01</td><td>0.04</td><td>2000</td><td>2025-02-03</td></tr><tr><td>2000-08-01</td><td>0.24</td><td>2000</td><td>2025-02-03</td></tr><tr><td>2000-09-01</td><td>0.13</td><td>2000</td><td>2025-02-03</td></tr><tr><td>2000-10-01</td><td>0.1</td><td>2000</td><td>2025-02-03</td></tr><tr><td>2000-11-01</td><td>0.08</td><td>2000</td><td>2025-02-03</td></tr><tr><td>2000-12-01</td><td>0.14</td><td>2000</td><td>2025-02-03</td></tr><tr><td>2001-01-01</td><td>0.5</td><td>2001</td><td>2025-02-03</td></tr><tr><td>2001-02-01</td><td>0.73</td><td>2001</td><td>2025-02-03</td></tr><tr><td>2001-03-01</td><td>0.06</td><td>2001</td><td>2025-02-03</td></tr><tr><td>2001-04-01</td><td>0.62</td><td>2001</td><td>2025-02-03</td></tr><tr><td>2001-05-01</td><td>0.38</td><td>2001</td><td>2025-02-03</td></tr><tr><td>2001-06-01</td><td>0.3</td><td>2001</td><td>2025-02-03</td></tr><tr><td>2001-07-01</td><td>0.77</td><td>2001</td><td>2025-02-03</td></tr><tr><td>2001-08-01</td><td>0.56</td><td>2001</td><td>2025-02-03</td></tr><tr><td>2001-09-01</td><td>0.2</td><td>2001</td><td>2025-02-03</td></tr><tr><td>2001-10-01</td><td>0.34</td><td>2001</td><td>2025-02-03</td></tr><tr><td>2001-11-01</td><td>0.08</td><td>2001</td><td>2025-02-03</td></tr><tr><td>2001-12-01</td><td>0.22</td><td>2001</td><td>2025-02-03</td></tr><tr><td>2002-07-01</td><td>0.69</td><td>2002</td><td>2025-02-03</td></tr><tr><td>2002-01-01</td><td>0.19</td><td>2002</td><td>2025-02-03</td></tr><tr><td>2002-08-01</td><td>0.4</td><td>2002</td><td>2025-02-03</td></tr><tr><td>2002-02-01</td><td>1.22</td><td>2002</td><td>2025-02-03</td></tr><tr><td>2002-09-01</td><td>0.43</td><td>2002</td><td>2025-02-03</td></tr><tr><td>2002-03-01</td><td>0.15</td><td>2002</td><td>2025-02-03</td></tr><tr><td>2002-10-01</td><td>0.17</td><td>2002</td><td>2025-02-03</td></tr><tr><td>2002-04-01</td><td>0.5</td><td>2002</td><td>2025-02-03</td></tr><tr><td>2002-11-01</td><td>0.4</td><td>2002</td><td>2025-02-03</td></tr><tr><td>2002-05-01</td><td>0.44</td><td>2002</td><td>2025-02-03</td></tr><tr><td>2002-12-01</td><td>0.67</td><td>2002</td><td>2025-02-03</td></tr><tr><td>2002-06-01</td><td>0.15</td><td>2002</td><td>2025-02-03</td></tr><tr><td>2003-01-01</td><td>1.03</td><td>2003</td><td>2025-02-03</td></tr><tr><td>2003-02-01</td><td>1.69</td><td>2003</td><td>2025-02-03</td></tr><tr><td>2003-03-01</td><td>0.49</td><td>2003</td><td>2025-02-03</td></tr><tr><td>2003-04-01</td><td>0.29</td><td>2003</td><td>2025-02-03</td></tr><tr><td>2003-05-01</td><td>0.3</td><td>2003</td><td>2025-02-03</td></tr><tr><td>2003-06-01</td><td>0.48</td><td>2003</td><td>2025-02-03</td></tr><tr><td>2003-07-01</td><td>0.52</td><td>2003</td><td>2025-02-03</td></tr><tr><td>2003-08-01</td><td>0.61</td><td>2003</td><td>2025-02-03</td></tr><tr><td>2003-09-01</td><td>0.41</td><td>2003</td><td>2025-02-03</td></tr><tr><td>2003-10-01</td><td>0.42</td><td>2003</td><td>2025-02-03</td></tr><tr><td>2003-11-01</td><td>0.39</td><td>2003</td><td>2025-02-03</td></tr><tr><td>2003-12-01</td><td>0.46</td><td>2003</td><td>2025-02-03</td></tr><tr><td>2004-01-01</td><td>0.62</td><td>2004</td><td>2025-02-03</td></tr><tr><td>2004-02-01</td><td>1.9</td><td>2004</td><td>2025-02-03</td></tr><tr><td>2004-03-01</td><td>0.49</td><td>2004</td><td>2025-02-03</td></tr><tr><td>2004-04-01</td><td>0.3</td><td>2004</td><td>2025-02-03</td></tr><tr><td>2004-05-01</td><td>0.3</td><td>2004</td><td>2025-02-03</td></tr><tr><td>2004-06-01</td><td>0.26</td><td>2004</td><td>2025-02-03</td></tr><tr><td>2004-07-01</td><td>0.49</td><td>2004</td><td>2025-02-03</td></tr><tr><td>2004-08-01</td><td>0.58</td><td>2004</td><td>2025-02-03</td></tr><tr><td>2004-09-01</td><td>0.23</td><td>2004</td><td>2025-02-03</td></tr><tr><td>2004-10-01</td><td>0.33</td><td>2004</td><td>2025-02-03</td></tr><tr><td>2004-11-01</td><td>0.37</td><td>2004</td><td>2025-02-03</td></tr><tr><td>2004-12-01</td><td>0.6</td><td>2004</td><td>2025-02-03</td></tr><tr><td>2005-01-01</td><td>0.46</td><td>2005</td><td>2025-02-03</td></tr><tr><td>2005-02-01</td><td>1.82</td><td>2005</td><td>2025-02-03</td></tr><tr><td>2005-03-01</td><td>0.51</td><td>2005</td><td>2025-02-03</td></tr><tr><td>2005-04-01</td><td>0.35</td><td>2005</td><td>2025-02-03</td></tr><tr><td>2005-05-01</td><td>0.28</td><td>2005</td><td>2025-02-03</td></tr><tr><td>2005-06-01</td><td>0.5</td><td>2005</td><td>2025-02-03</td></tr><tr><td>2005-07-01</td><td>0.58</td><td>2005</td><td>2025-02-03</td></tr><tr><td>2005-08-01</td><td>0.44</td><td>2005</td><td>2025-02-03</td></tr><tr><td>2005-09-01</td><td>0.44</td><td>2005</td><td>2025-02-03</td></tr><tr><td>2005-10-01</td><td>0.56</td><td>2005</td><td>2025-02-03</td></tr><tr><td>2005-11-01</td><td>0.41</td><td>2005</td><td>2025-02-03</td></tr><tr><td>2005-12-01</td><td>0.22</td><td>2005</td><td>2025-02-03</td></tr><tr><td>2006-04-01</td><td>0.33</td><td>2006</td><td>2025-02-03</td></tr><tr><td>2006-01-01</td><td>0.68</td><td>2006</td><td>2025-02-03</td></tr><tr><td>2006-05-01</td><td>0.33</td><td>2006</td><td>2025-02-03</td></tr><tr><td>2006-02-01</td><td>1.54</td><td>2006</td><td>2025-02-03</td></tr><tr><td>2006-06-01</td><td>0.17</td><td>2006</td><td>2025-02-03</td></tr><tr><td>2006-03-01</td><td>0.4</td><td>2006</td><td>2025-02-03</td></tr><tr><td>2006-07-01</td><td>0.36</td><td>2006</td><td>2025-02-03</td></tr><tr><td>2006-08-01</td><td>0.36</td><td>2006</td><td>2025-02-03</td></tr><tr><td>2006-09-01</td><td>0.38</td><td>2006</td><td>2025-02-03</td></tr><tr><td>2006-10-01</td><td>0.43</td><td>2006</td><td>2025-02-03</td></tr><tr><td>2006-11-01</td><td>0.19</td><td>2006</td><td>2025-02-03</td></tr><tr><td>2006-12-01</td><td>0.19</td><td>2006</td><td>2025-02-03</td></tr><tr><td>2007-01-01</td><td>0.48</td><td>2007</td><td>2025-02-03</td></tr><tr><td>2007-02-01</td><td>1.39</td><td>2007</td><td>2025-02-03</td></tr><tr><td>2007-03-01</td><td>0.38</td><td>2007</td><td>2025-02-03</td></tr><tr><td>2007-04-01</td><td>0.18</td><td>2007</td><td>2025-02-03</td></tr><tr><td>2007-05-01</td><td>0.26</td><td>2007</td><td>2025-02-03</td></tr><tr><td>2007-06-01</td><td>0.23</td><td>2007</td><td>2025-02-03</td></tr><tr><td>2007-07-01</td><td>0.27</td><td>2007</td><td>2025-02-03</td></tr><tr><td>2007-08-01</td><td>0.48</td><td>2007</td><td>2025-02-03</td></tr><tr><td>2007-09-01</td><td>0.2</td><td>2007</td><td>2025-02-03</td></tr><tr><td>2007-10-01</td><td>0.34</td><td>2007</td><td>2025-02-03</td></tr><tr><td>2007-11-01</td><td>0.38</td><td>2007</td><td>2025-02-03</td></tr><tr><td>2007-12-01</td><td>0.47</td><td>2007</td><td>2025-02-03</td></tr><tr><td>2008-01-01</td><td>0.43</td><td>2008</td><td>2025-02-03</td></tr><tr><td>2008-02-01</td><td>1.45</td><td>2008</td><td>2025-02-03</td></tr><tr><td>2008-03-01</td><td>0.3</td><td>2008</td><td>2025-02-03</td></tr><tr><td>2008-04-01</td><td>0.32</td><td>2008</td><td>2025-02-03</td></tr><tr><td>2008-05-01</td><td>0.56</td><td>2008</td><td>2025-02-03</td></tr><tr><td>2008-06-01</td><td>0.4</td><td>2008</td><td>2025-02-03</td></tr><tr><td>2008-07-01</td><td>0.34</td><td>2008</td><td>2025-02-03</td></tr><tr><td>2008-08-01</td><td>0.56</td><td>2008</td><td>2025-02-03</td></tr><tr><td>2008-09-01</td><td>0.55</td><td>2008</td><td>2025-02-03</td></tr><tr><td>2008-10-01</td><td>0.42</td><td>2008</td><td>2025-02-03</td></tr><tr><td>2008-11-01</td><td>0.49</td><td>2008</td><td>2025-02-03</td></tr><tr><td>2008-12-01</td><td>0.39</td><td>2008</td><td>2025-02-03</td></tr><tr><td>2009-01-01</td><td>0.65</td><td>2009</td><td>2025-02-03</td></tr><tr><td>2009-02-01</td><td>1.89</td><td>2009</td><td>2025-02-03</td></tr><tr><td>2009-03-01</td><td>0.06</td><td>2009</td><td>2025-02-03</td></tr><tr><td>2009-04-01</td><td>0.67</td><td>2009</td><td>2025-02-03</td></tr><tr><td>2009-05-01</td><td>0.58</td><td>2009</td><td>2025-02-03</td></tr><tr><td>2009-06-01</td><td>0.38</td><td>2009</td><td>2025-02-03</td></tr><tr><td>2009-07-01</td><td>0.27</td><td>2009</td><td>2025-02-03</td></tr><tr><td>2009-08-01</td><td>0.47</td><td>2009</td><td>2025-02-03</td></tr><tr><td>2009-09-01</td><td>0.36</td><td>2009</td><td>2025-02-03</td></tr><tr><td>2009-10-01</td><td>0.22</td><td>2009</td><td>2025-02-03</td></tr><tr><td>2009-11-01</td><td>0.3</td><td>2009</td><td>2025-02-03</td></tr><tr><td>2009-12-01</td><td>0.34</td><td>2009</td><td>2025-02-03</td></tr><tr><td>2010-01-01</td><td>0.61</td><td>2010</td><td>2025-02-03</td></tr><tr><td>2010-02-01</td><td>1.81</td><td>2010</td><td>2025-02-03</td></tr><tr><td>2010-03-01</td><td>0.72</td><td>2010</td><td>2025-02-03</td></tr><tr><td>2010-04-01</td><td>0.5</td><td>2010</td><td>2025-02-03</td></tr><tr><td>2010-05-01</td><td>0.62</td><td>2010</td><td>2025-02-03</td></tr><tr><td>2010-06-01</td><td>0.41</td><td>2010</td><td>2025-02-03</td></tr><tr><td>2010-07-01</td><td>0.35</td><td>2010</td><td>2025-02-03</td></tr><tr><td>2010-08-01</td><td>0.41</td><td>2010</td><td>2025-02-03</td></tr><tr><td>2010-09-01</td><td>0.41</td><td>2010</td><td>2025-02-03</td></tr><tr><td>2010-10-01</td><td>0.49</td><td>2010</td><td>2025-02-03</td></tr><tr><td>2010-11-01</td><td>0.46</td><td>2010</td><td>2025-02-03</td></tr><tr><td>2010-12-01</td><td>0.58</td><td>2010</td><td>2025-02-03</td></tr><tr><td>2011-01-01</td><td>0.87</td><td>2011</td><td>2025-02-03</td></tr><tr><td>2011-02-01</td><td>2.28</td><td>2011</td><td>2025-02-03</td></tr><tr><td>2011-03-01</td><td>0.85</td><td>2011</td><td>2025-02-03</td></tr><tr><td>2011-04-01</td><td>0.54</td><td>2011</td><td>2025-02-03</td></tr><tr><td>2011-05-01</td><td>0.58</td><td>2011</td><td>2025-02-03</td></tr><tr><td>2011-06-01</td><td>0.6</td><td>2011</td><td>2025-02-03</td></tr><tr><td>2011-07-01</td><td>0.42</td><td>2011</td><td>2025-02-03</td></tr><tr><td>2011-08-01</td><td>0.5</td><td>2011</td><td>2025-02-03</td></tr><tr><td>2011-09-01</td><td>0.51</td><td>2011</td><td>2025-02-03</td></tr><tr><td>2011-10-01</td><td>0.41</td><td>2011</td><td>2025-02-03</td></tr><tr><td>2011-11-01</td><td>0.58</td><td>2011</td><td>2025-02-03</td></tr><tr><td>2011-12-01</td><td>0.51</td><td>2011</td><td>2025-02-03</td></tr><tr><td>2012-01-01</td><td>1.04</td><td>2012</td><td>2025-02-03</td></tr><tr><td>2012-02-01</td><td>1.25</td><td>2012</td><td>2025-02-03</td></tr><tr><td>2012-03-01</td><td>0.52</td><td>2012</td><td>2025-02-03</td></tr><tr><td>2012-04-01</td><td>0.77</td><td>2012</td><td>2025-02-03</td></tr><tr><td>2012-05-01</td><td>0.21</td><td>2012</td><td>2025-02-03</td></tr><tr><td>2012-06-01</td><td>0.52</td><td>2012</td><td>2025-02-03</td></tr><tr><td>2012-07-01</td><td>0.79</td><td>2012</td><td>2025-02-03</td></tr><tr><td>2012-08-01</td><td>0.49</td><td>2012</td><td>2025-02-03</td></tr><tr><td>2012-09-01</td><td>0.51</td><td>2012</td><td>2025-02-03</td></tr><tr><td>2012-10-01</td><td>0.51</td><td>2012</td><td>2025-02-03</td></tr><tr><td>2012-11-01</td><td>0.82</td><td>2012</td><td>2025-02-03</td></tr><tr><td>2012-12-01</td><td>0.98</td><td>2012</td><td>2025-02-03</td></tr><tr><td>2013-10-01</td><td>0.52</td><td>2013</td><td>2025-02-03</td></tr><tr><td>2013-01-01</td><td>0.92</td><td>2013</td><td>2025-02-03</td></tr><tr><td>2013-11-01</td><td>0.65</td><td>2013</td><td>2025-02-03</td></tr><tr><td>2013-02-01</td><td>1.3</td><td>2013</td><td>2025-02-03</td></tr><tr><td>2013-12-01</td><td>1.16</td><td>2013</td><td>2025-02-03</td></tr><tr><td>2013-03-01</td><td>0.26</td><td>2013</td><td>2025-02-03</td></tr><tr><td>2013-04-01</td><td>0.54</td><td>2013</td><td>2025-02-03</td></tr><tr><td>2013-05-01</td><td>0.56</td><td>2013</td><td>2025-02-03</td></tr><tr><td>2013-06-01</td><td>0.64</td><td>2013</td><td>2025-02-03</td></tr><tr><td>2013-07-01</td><td>0.64</td><td>2013</td><td>2025-02-03</td></tr><tr><td>2013-08-01</td><td>0.6</td><td>2013</td><td>2025-02-03</td></tr><tr><td>2013-09-01</td><td>0.63</td><td>2013</td><td>2025-02-03</td></tr><tr><td>2014-01-01</td><td>0.47</td><td>2014</td><td>2025-02-03</td></tr><tr><td>2014-02-01</td><td>1.24</td><td>2014</td><td>2025-02-03</td></tr><tr><td>2014-03-01</td><td>1.09</td><td>2014</td><td>2025-02-03</td></tr><tr><td>2014-04-01</td><td>0.44</td><td>2014</td><td>2025-02-03</td></tr><tr><td>2014-05-01</td><td>0.3</td><td>2014</td><td>2025-02-03</td></tr><tr><td>2014-06-01</td><td>1.1</td><td>2014</td><td>2025-02-03</td></tr><tr><td>2014-07-01</td><td>-0.05</td><td>2014</td><td>2025-02-03</td></tr><tr><td>2014-08-01</td><td>0.58</td><td>2014</td><td>2025-02-03</td></tr><tr><td>2014-09-01</td><td>0.77</td><td>2014</td><td>2025-02-03</td></tr><tr><td>2014-10-01</td><td>0.43</td><td>2014</td><td>2025-02-03</td></tr><tr><td>2014-11-01</td><td>0.46</td><td>2014</td><td>2025-02-03</td></tr><tr><td>2014-12-01</td><td>1.2</td><td>2014</td><td>2025-02-03</td></tr><tr><td>2015-01-01</td><td>0.87</td><td>2015</td><td>2025-02-03</td></tr><tr><td>2015-02-01</td><td>1.07</td><td>2015</td><td>2025-02-03</td></tr><tr><td>2015-03-01</td><td>0.58</td><td>2015</td><td>2025-02-03</td></tr><tr><td>2015-04-01</td><td>0.72</td><td>2015</td><td>2025-02-03</td></tr><tr><td>2015-05-01</td><td>0.2</td><td>2015</td><td>2025-02-03</td></tr><tr><td>2015-06-01</td><td>0.79</td><td>2015</td><td>2025-02-03</td></tr><tr><td>2015-07-01</td><td>0.54</td><td>2015</td><td>2025-02-03</td></tr><tr><td>2015-08-01</td><td>0.32</td><td>2015</td><td>2025-02-03</td></tr><tr><td>2015-09-01</td><td>0.67</td><td>2015</td><td>2025-02-03</td></tr><tr><td>2015-10-01</td><td>0.62</td><td>2015</td><td>2025-02-03</td></tr><tr><td>2015-11-01</td><td>0.46</td><td>2015</td><td>2025-02-03</td></tr><tr><td>2015-12-01</td><td>0.97</td><td>2015</td><td>2025-02-03</td></tr><tr><td>2016-01-01</td><td>0.66</td><td>2016</td><td>2025-02-03</td></tr><tr><td>2016-02-01</td><td>1.04</td><td>2016</td><td>2025-02-03</td></tr><tr><td>2016-03-01</td><td>0.24</td><td>2016</td><td>2025-02-03</td></tr><tr><td>2016-04-01</td><td>0.58</td><td>2016</td><td>2025-02-03</td></tr><tr><td>2016-05-01</td><td>0.37</td><td>2016</td><td>2025-02-03</td></tr><tr><td>2016-06-01</td><td>0.33</td><td>2016</td><td>2025-02-03</td></tr><tr><td>2016-07-01</td><td>0.62</td><td>2016</td><td>2025-02-03</td></tr><tr><td>2016-08-01</td><td>0.58</td><td>2016</td><td>2025-02-03</td></tr><tr><td>2016-09-01</td><td>0.33</td><td>2016</td><td>2025-02-03</td></tr><tr><td>2016-10-01</td><td>0.47</td><td>2016</td><td>2025-02-03</td></tr><tr><td>2016-11-01</td><td>0.41</td><td>2016</td><td>2025-02-03</td></tr><tr><td>2016-12-01</td><td>0.65</td><td>2016</td><td>2025-02-03</td></tr><tr><td>2017-07-01</td><td>0.33</td><td>2017</td><td>2025-02-03</td></tr><tr><td>2017-01-01</td><td>0.36</td><td>2017</td><td>2025-02-03</td></tr><tr><td>2017-08-01</td><td>0.01</td><td>2017</td><td>2025-02-03</td></tr><tr><td>2017-02-01</td><td>0.84</td><td>2017</td><td>2025-02-03</td></tr><tr><td>2017-09-01</td><td>0.5</td><td>2017</td><td>2025-02-03</td></tr><tr><td>2017-03-01</td><td>0.34</td><td>2017</td><td>2025-02-03</td></tr><tr><td>2017-10-01</td><td>0.37</td><td>2017</td><td>2025-02-03</td></tr><tr><td>2017-04-01</td><td>0.49</td><td>2017</td><td>2025-02-03</td></tr><tr><td>2017-11-01</td><td>0.12</td><td>2017</td><td>2025-02-03</td></tr><tr><td>2017-05-01</td><td>0.05</td><td>2017</td><td>2025-02-03</td></tr><tr><td>2017-12-01</td><td>0.6</td><td>2017</td><td>2025-02-03</td></tr><tr><td>2017-06-01</td><td>0.43</td><td>2017</td><td>2025-02-03</td></tr><tr><td>2018-01-01</td><td>0.16</td><td>2018</td><td>2025-02-03</td></tr><tr><td>2018-02-01</td><td>0.74</td><td>2018</td><td>2025-02-03</td></tr><tr><td>2018-03-01</td><td>0.08</td><td>2018</td><td>2025-02-03</td></tr><tr><td>2018-04-01</td><td>0.03</td><td>2018</td><td>2025-02-03</td></tr><tr><td>2018-05-01</td><td>-0.09</td><td>2018</td><td>2025-02-03</td></tr><tr><td>2018-06-01</td><td>0.26</td><td>2018</td><td>2025-02-03</td></tr><tr><td>2018-07-01</td><td>0.68</td><td>2018</td><td>2025-02-03</td></tr><tr><td>2018-08-01</td><td>-0.16</td><td>2018</td><td>2025-02-03</td></tr><tr><td>2018-09-01</td><td>0.4</td><td>2018</td><td>2025-02-03</td></tr><tr><td>2018-10-01</td><td>0.17</td><td>2018</td><td>2025-02-03</td></tr><tr><td>2018-11-01</td><td>0.41</td><td>2018</td><td>2025-02-03</td></tr><tr><td>2018-12-01</td><td>0.62</td><td>2018</td><td>2025-02-03</td></tr><tr><td>2019-01-01</td><td>0.51</td><td>2019</td><td>2025-02-03</td></tr><tr><td>2019-02-01</td><td>0.39</td><td>2019</td><td>2025-02-03</td></tr><tr><td>2019-03-01</td><td>0.33</td><td>2019</td><td>2025-02-03</td></tr><tr><td>2019-04-01</td><td>0.32</td><td>2019</td><td>2025-02-03</td></tr><tr><td>2019-05-01</td><td>-0.11</td><td>2019</td><td>2025-02-03</td></tr><tr><td>2019-06-01</td><td>0.34</td><td>2019</td><td>2025-02-03</td></tr><tr><td>2019-07-01</td><td>0.46</td><td>2019</td><td>2025-02-03</td></tr><tr><td>2019-08-01</td><td>0.07</td><td>2019</td><td>2025-02-03</td></tr><tr><td>2019-09-01</td><td>0.04</td><td>2019</td><td>2025-02-03</td></tr><tr><td>2019-10-01</td><td>0.19</td><td>2019</td><td>2025-02-03</td></tr><tr><td>2019-11-01</td><td>0.2</td><td>2019</td><td>2025-02-03</td></tr><tr><td>2019-12-01</td><td>0.73</td><td>2019</td><td>2025-02-03</td></tr><tr><td>2020-01-01</td><td>0.28</td><td>2020</td><td>2025-02-03</td></tr><tr><td>2020-02-01</td><td>0.68</td><td>2020</td><td>2025-02-03</td></tr><tr><td>2020-03-01</td><td>-0.14</td><td>2020</td><td>2025-02-03</td></tr><tr><td>2020-04-01</td><td>0.25</td><td>2020</td><td>2025-02-03</td></tr><tr><td>2020-05-01</td><td>-0.45</td><td>2020</td><td>2025-02-03</td></tr><tr><td>2020-06-01</td><td>-0.26</td><td>2020</td><td>2025-02-03</td></tr><tr><td>2020-07-01</td><td>-0.1</td><td>2020</td><td>2025-02-03</td></tr><tr><td>2020-08-01</td><td>-0.47</td><td>2020</td><td>2025-02-03</td></tr><tr><td>2020-09-01</td><td>0.17</td><td>2020</td><td>2025-02-03</td></tr><tr><td>2020-10-01</td><td>0.55</td><td>2020</td><td>2025-02-03</td></tr><tr><td>2020-11-01</td><td>0.39</td><td>2020</td><td>2025-02-03</td></tr><tr><td>2020-12-01</td><td>0.83</td><td>2020</td><td>2025-02-03</td></tr><tr><td>2021-04-01</td><td>0.05</td><td>2021</td><td>2025-02-03</td></tr><tr><td>2021-01-01</td><td>0.07</td><td>2021</td><td>2025-02-03</td></tr><tr><td>2021-05-01</td><td>-0.16</td><td>2021</td><td>2025-02-03</td></tr><tr><td>2021-02-01</td><td>0.55</td><td>2021</td><td>2025-02-03</td></tr><tr><td>2021-06-01</td><td>0.23</td><td>2021</td><td>2025-02-03</td></tr><tr><td>2021-03-01</td><td>0.12</td><td>2021</td><td>2025-02-03</td></tr><tr><td>2021-07-01</td><td>0.67</td><td>2021</td><td>2025-02-03</td></tr><tr><td>2021-08-01</td><td>0.39</td><td>2021</td><td>2025-02-03</td></tr><tr><td>2021-09-01</td><td>0.63</td><td>2021</td><td>2025-02-03</td></tr><tr><td>2021-10-01</td><td>1.04</td><td>2021</td><td>2025-02-03</td></tr><tr><td>2021-11-01</td><td>0.27</td><td>2021</td><td>2025-02-03</td></tr><tr><td>2021-12-01</td><td>0.79</td><td>2021</td><td>2025-02-03</td></tr><tr><td>2022-01-01</td><td>0.39</td><td>2022</td><td>2025-02-03</td></tr><tr><td>2022-02-01</td><td>1.36</td><td>2022</td><td>2025-02-03</td></tr><tr><td>2022-03-01</td><td>0.45</td><td>2022</td><td>2025-02-03</td></tr><tr><td>2022-04-01</td><td>0.66</td><td>2022</td><td>2025-02-03</td></tr><tr><td>2022-05-01</td><td>0.85</td><td>2022</td><td>2025-02-03</td></tr><tr><td>2022-06-01</td><td>0.9</td><td>2022</td><td>2025-02-03</td></tr><tr><td>2022-07-01</td><td>0.8</td><td>2022</td><td>2025-02-03</td></tr><tr><td>2022-08-01</td><td>0.28</td><td>2022</td><td>2025-02-03</td></tr><tr><td>2022-09-01</td><td>0.4</td><td>2022</td><td>2025-02-03</td></tr><tr><td>2022-10-01</td><td>0.67</td><td>2022</td><td>2025-02-03</td></tr><tr><td>2022-11-01</td><td>0.13</td><td>2022</td><td>2025-02-03</td></tr><tr><td>2022-12-01</td><td>0.44</td><td>2022</td><td>2025-02-03</td></tr><tr><td>2023-01-01</td><td>0.6</td><td>2023</td><td>2025-02-03</td></tr><tr><td>2023-02-01</td><td>1.41</td><td>2023</td><td>2025-02-03</td></tr><tr><td>2023-03-01</td><td>0.25</td><td>2023</td><td>2025-02-03</td></tr><tr><td>2023-04-01</td><td>0.52</td><td>2023</td><td>2025-02-03</td></tr><tr><td>2023-05-01</td><td>-0.06</td><td>2023</td><td>2025-02-03</td></tr><tr><td>2023-06-01</td><td>0.62</td><td>2023</td><td>2025-02-03</td></tr><tr><td>2023-07-01</td><td>0.25</td><td>2023</td><td>2025-02-03</td></tr><tr><td>2023-08-01</td><td>0.08</td><td>2023</td><td>2025-02-03</td></tr><tr><td>2023-09-01</td><td>0.5</td><td>2023</td><td>2025-02-03</td></tr><tr><td>2023-10-01</td><td>0.58</td><td>2023</td><td>2025-02-03</td></tr><tr><td>2023-11-01</td><td>0.7</td><td>2023</td><td>2025-02-03</td></tr><tr><td>2023-12-01</td><td>0.6</td><td>2023</td><td>2025-02-03</td></tr><tr><td>2024-01-01</td><td>0.02</td><td>2024</td><td>2025-02-03</td></tr><tr><td>2024-02-01</td><td>1.05</td><td>2024</td><td>2025-02-03</td></tr><tr><td>2024-03-01</td><td>0.1</td><td>2024</td><td>2025-02-03</td></tr><tr><td>2024-04-01</td><td>0.05</td><td>2024</td><td>2025-02-03</td></tr><tr><td>2024-05-01</td><td>0.4</td><td>2024</td><td>2025-02-03</td></tr><tr><td>2024-06-01</td><td>0.04</td><td>2024</td><td>2025-02-03</td></tr><tr><td>2024-07-01</td><td>0.75</td><td>2024</td><td>2025-02-03</td></tr><tr><td>2024-08-01</td><td>0.24</td><td>2024</td><td>2025-02-03</td></tr><tr><td>2024-09-01</td><td>0.15</td><td>2024</td><td>2025-02-03</td></tr><tr><td>2024-10-01</td><td>0.35</td><td>2024</td><td>2025-02-03</td></tr><tr><td>2024-11-01</td><td>0.83</td><td>2024</td><td>2025-02-03</td></tr><tr><td>2024-12-01</td><td>0.66</td><td>2024</td><td>2025-02-03</td></tr></tbody></table></div>"
      ]
     },
     "metadata": {
      "application/vnd.databricks.v1+output": {
       "addedWidgets": {},
       "aggData": [],
       "aggError": "",
       "aggOverflow": false,
       "aggSchema": [],
       "aggSeriesLimitReached": false,
       "aggType": "",
       "arguments": {},
       "columnCustomDisplayInfos": {},
       "data": [
        [
         "1995-01-01",
         5.18,
         1995,
         "2025-02-03"
        ],
        [
         "1995-02-01",
         3.09,
         1995,
         "2025-02-03"
        ],
        [
         "1995-03-01",
         3.83,
         1995,
         "2025-02-03"
        ],
        [
         "1995-04-01",
         4.29,
         1995,
         "2025-02-03"
        ],
        [
         "1995-05-01",
         6.91,
         1995,
         "2025-02-03"
        ],
        [
         "1995-06-01",
         4.38,
         1995,
         "2025-02-03"
        ],
        [
         "1995-07-01",
         3.9,
         1995,
         "2025-02-03"
        ],
        [
         "1995-08-01",
         3.31,
         1995,
         "2025-02-03"
        ],
        [
         "1995-09-01",
         2.85,
         1995,
         "2025-02-03"
        ],
        [
         "1995-10-01",
         2.47,
         1995,
         "2025-02-03"
        ],
        [
         "1995-11-01",
         2.71,
         1995,
         "2025-02-03"
        ],
        [
         "1995-12-01",
         2.28,
         1995,
         "2025-02-03"
        ],
        [
         "1996-01-01",
         2.2,
         1996,
         "2025-02-03"
        ],
        [
         "1996-02-01",
         2.32,
         1996,
         "2025-02-03"
        ],
        [
         "1996-03-01",
         1.63,
         1996,
         "2025-02-03"
        ],
        [
         "1996-04-01",
         1.4,
         1996,
         "2025-02-03"
        ],
        [
         "1996-05-01",
         2.21,
         1996,
         "2025-02-03"
        ],
        [
         "1996-06-01",
         1.54,
         1996,
         "2025-02-03"
        ],
        [
         "1996-07-01",
         1.41,
         1996,
         "2025-02-03"
        ],
        [
         "1996-08-01",
         1.43,
         1996,
         "2025-02-03"
        ],
        [
         "1996-09-01",
         1.02,
         1996,
         "2025-02-03"
        ],
        [
         "1996-10-01",
         0.62,
         1996,
         "2025-02-03"
        ],
        [
         "1996-11-01",
         0.83,
         1996,
         "2025-02-03"
        ],
        [
         "1996-12-01",
         0.73,
         1996,
         "2025-02-03"
        ],
        [
         "1997-01-01",
         1.02,
         1997,
         "2025-02-03"
        ],
        [
         "1997-02-01",
         0.99,
         1997,
         "2025-02-03"
        ],
        [
         "1997-03-01",
         0.45,
         1997,
         "2025-02-03"
        ],
        [
         "1997-04-01",
         0.73,
         1997,
         "2025-02-03"
        ],
        [
         "1997-05-01",
         0.87,
         1997,
         "2025-02-03"
        ],
        [
         "1997-06-01",
         0.58,
         1997,
         "2025-02-03"
        ],
        [
         "1997-07-01",
         0.57,
         1997,
         "2025-02-03"
        ],
        [
         "1997-08-01",
         0.39,
         1997,
         "2025-02-03"
        ],
        [
         "1997-09-01",
         0.12,
         1997,
         "2025-02-03"
        ],
        [
         "1997-10-01",
         0.19,
         1997,
         "2025-02-03"
        ],
        [
         "1997-11-01",
         0.05,
         1997,
         "2025-02-03"
        ],
        [
         "1997-12-01",
         0.08,
         1997,
         "2025-02-03"
        ],
        [
         "1998-10-01",
         -0.1,
         1998,
         "2025-02-03"
        ],
        [
         "1998-01-01",
         0.4,
         1998,
         "2025-02-03"
        ],
        [
         "1998-11-01",
         0.0,
         1998,
         "2025-02-03"
        ],
        [
         "1998-02-01",
         0.52,
         1998,
         "2025-02-03"
        ],
        [
         "1998-12-01",
         0.04,
         1998,
         "2025-02-03"
        ],
        [
         "1998-03-01",
         0.16,
         1998,
         "2025-02-03"
        ],
        [
         "1998-04-01",
         0.03,
         1998,
         "2025-02-03"
        ],
        [
         "1998-05-01",
         0.56,
         1998,
         "2025-02-03"
        ],
        [
         "1998-06-01",
         -0.18,
         1998,
         "2025-02-03"
        ],
        [
         "1998-07-01",
         0.26,
         1998,
         "2025-02-03"
        ],
        [
         "1998-08-01",
         0.0,
         1998,
         "2025-02-03"
        ],
        [
         "1998-09-01",
         -0.14,
         1998,
         "2025-02-03"
        ],
        [
         "1999-01-01",
         0.49,
         1999,
         "2025-02-03"
        ],
        [
         "1999-02-01",
         -0.36,
         1999,
         "2025-02-03"
        ],
        [
         "1999-03-01",
         0.26,
         1999,
         "2025-02-03"
        ],
        [
         "1999-04-01",
         0.1,
         1999,
         "2025-02-03"
        ],
        [
         "1999-05-01",
         0.22,
         1999,
         "2025-02-03"
        ],
        [
         "1999-06-01",
         0.21,
         1999,
         "2025-02-03"
        ],
        [
         "1999-07-01",
         0.04,
         1999,
         "2025-02-03"
        ],
        [
         "1999-08-01",
         0.1,
         1999,
         "2025-02-03"
        ],
        [
         "1999-09-01",
         -0.1,
         1999,
         "2025-02-03"
        ],
        [
         "1999-10-01",
         0.01,
         1999,
         "2025-02-03"
        ],
        [
         "1999-11-01",
         0.09,
         1999,
         "2025-02-03"
        ],
        [
         "1999-12-01",
         0.28,
         1999,
         "2025-02-03"
        ],
        [
         "2000-01-01",
         0.69,
         2000,
         "2025-02-03"
        ],
        [
         "2000-02-01",
         0.38,
         2000,
         "2025-02-03"
        ],
        [
         "2000-03-01",
         -0.11,
         2000,
         "2025-02-03"
        ],
        [
         "2000-04-01",
         1.47,
         2000,
         "2025-02-03"
        ],
        [
         "2000-05-01",
         -0.07,
         2000,
         "2025-02-03"
        ],
        [
         "2000-06-01",
         0.0,
         2000,
         "2025-02-03"
        ],
        [
         "2000-07-01",
         0.04,
         2000,
         "2025-02-03"
        ],
        [
         "2000-08-01",
         0.24,
         2000,
         "2025-02-03"
        ],
        [
         "2000-09-01",
         0.13,
         2000,
         "2025-02-03"
        ],
        [
         "2000-10-01",
         0.1,
         2000,
         "2025-02-03"
        ],
        [
         "2000-11-01",
         0.08,
         2000,
         "2025-02-03"
        ],
        [
         "2000-12-01",
         0.14,
         2000,
         "2025-02-03"
        ],
        [
         "2001-01-01",
         0.5,
         2001,
         "2025-02-03"
        ],
        [
         "2001-02-01",
         0.73,
         2001,
         "2025-02-03"
        ],
        [
         "2001-03-01",
         0.06,
         2001,
         "2025-02-03"
        ],
        [
         "2001-04-01",
         0.62,
         2001,
         "2025-02-03"
        ],
        [
         "2001-05-01",
         0.38,
         2001,
         "2025-02-03"
        ],
        [
         "2001-06-01",
         0.3,
         2001,
         "2025-02-03"
        ],
        [
         "2001-07-01",
         0.77,
         2001,
         "2025-02-03"
        ],
        [
         "2001-08-01",
         0.56,
         2001,
         "2025-02-03"
        ],
        [
         "2001-09-01",
         0.2,
         2001,
         "2025-02-03"
        ],
        [
         "2001-10-01",
         0.34,
         2001,
         "2025-02-03"
        ],
        [
         "2001-11-01",
         0.08,
         2001,
         "2025-02-03"
        ],
        [
         "2001-12-01",
         0.22,
         2001,
         "2025-02-03"
        ],
        [
         "2002-07-01",
         0.69,
         2002,
         "2025-02-03"
        ],
        [
         "2002-01-01",
         0.19,
         2002,
         "2025-02-03"
        ],
        [
         "2002-08-01",
         0.4,
         2002,
         "2025-02-03"
        ],
        [
         "2002-02-01",
         1.22,
         2002,
         "2025-02-03"
        ],
        [
         "2002-09-01",
         0.43,
         2002,
         "2025-02-03"
        ],
        [
         "2002-03-01",
         0.15,
         2002,
         "2025-02-03"
        ],
        [
         "2002-10-01",
         0.17,
         2002,
         "2025-02-03"
        ],
        [
         "2002-04-01",
         0.5,
         2002,
         "2025-02-03"
        ],
        [
         "2002-11-01",
         0.4,
         2002,
         "2025-02-03"
        ],
        [
         "2002-05-01",
         0.44,
         2002,
         "2025-02-03"
        ],
        [
         "2002-12-01",
         0.67,
         2002,
         "2025-02-03"
        ],
        [
         "2002-06-01",
         0.15,
         2002,
         "2025-02-03"
        ],
        [
         "2003-01-01",
         1.03,
         2003,
         "2025-02-03"
        ],
        [
         "2003-02-01",
         1.69,
         2003,
         "2025-02-03"
        ],
        [
         "2003-03-01",
         0.49,
         2003,
         "2025-02-03"
        ],
        [
         "2003-04-01",
         0.29,
         2003,
         "2025-02-03"
        ],
        [
         "2003-05-01",
         0.3,
         2003,
         "2025-02-03"
        ],
        [
         "2003-06-01",
         0.48,
         2003,
         "2025-02-03"
        ],
        [
         "2003-07-01",
         0.52,
         2003,
         "2025-02-03"
        ],
        [
         "2003-08-01",
         0.61,
         2003,
         "2025-02-03"
        ],
        [
         "2003-09-01",
         0.41,
         2003,
         "2025-02-03"
        ],
        [
         "2003-10-01",
         0.42,
         2003,
         "2025-02-03"
        ],
        [
         "2003-11-01",
         0.39,
         2003,
         "2025-02-03"
        ],
        [
         "2003-12-01",
         0.46,
         2003,
         "2025-02-03"
        ],
        [
         "2004-01-01",
         0.62,
         2004,
         "2025-02-03"
        ],
        [
         "2004-02-01",
         1.9,
         2004,
         "2025-02-03"
        ],
        [
         "2004-03-01",
         0.49,
         2004,
         "2025-02-03"
        ],
        [
         "2004-04-01",
         0.3,
         2004,
         "2025-02-03"
        ],
        [
         "2004-05-01",
         0.3,
         2004,
         "2025-02-03"
        ],
        [
         "2004-06-01",
         0.26,
         2004,
         "2025-02-03"
        ],
        [
         "2004-07-01",
         0.49,
         2004,
         "2025-02-03"
        ],
        [
         "2004-08-01",
         0.58,
         2004,
         "2025-02-03"
        ],
        [
         "2004-09-01",
         0.23,
         2004,
         "2025-02-03"
        ],
        [
         "2004-10-01",
         0.33,
         2004,
         "2025-02-03"
        ],
        [
         "2004-11-01",
         0.37,
         2004,
         "2025-02-03"
        ],
        [
         "2004-12-01",
         0.6,
         2004,
         "2025-02-03"
        ],
        [
         "2005-01-01",
         0.46,
         2005,
         "2025-02-03"
        ],
        [
         "2005-02-01",
         1.82,
         2005,
         "2025-02-03"
        ],
        [
         "2005-03-01",
         0.51,
         2005,
         "2025-02-03"
        ],
        [
         "2005-04-01",
         0.35,
         2005,
         "2025-02-03"
        ],
        [
         "2005-05-01",
         0.28,
         2005,
         "2025-02-03"
        ],
        [
         "2005-06-01",
         0.5,
         2005,
         "2025-02-03"
        ],
        [
         "2005-07-01",
         0.58,
         2005,
         "2025-02-03"
        ],
        [
         "2005-08-01",
         0.44,
         2005,
         "2025-02-03"
        ],
        [
         "2005-09-01",
         0.44,
         2005,
         "2025-02-03"
        ],
        [
         "2005-10-01",
         0.56,
         2005,
         "2025-02-03"
        ],
        [
         "2005-11-01",
         0.41,
         2005,
         "2025-02-03"
        ],
        [
         "2005-12-01",
         0.22,
         2005,
         "2025-02-03"
        ],
        [
         "2006-04-01",
         0.33,
         2006,
         "2025-02-03"
        ],
        [
         "2006-01-01",
         0.68,
         2006,
         "2025-02-03"
        ],
        [
         "2006-05-01",
         0.33,
         2006,
         "2025-02-03"
        ],
        [
         "2006-02-01",
         1.54,
         2006,
         "2025-02-03"
        ],
        [
         "2006-06-01",
         0.17,
         2006,
         "2025-02-03"
        ],
        [
         "2006-03-01",
         0.4,
         2006,
         "2025-02-03"
        ],
        [
         "2006-07-01",
         0.36,
         2006,
         "2025-02-03"
        ],
        [
         "2006-08-01",
         0.36,
         2006,
         "2025-02-03"
        ],
        [
         "2006-09-01",
         0.38,
         2006,
         "2025-02-03"
        ],
        [
         "2006-10-01",
         0.43,
         2006,
         "2025-02-03"
        ],
        [
         "2006-11-01",
         0.19,
         2006,
         "2025-02-03"
        ],
        [
         "2006-12-01",
         0.19,
         2006,
         "2025-02-03"
        ],
        [
         "2007-01-01",
         0.48,
         2007,
         "2025-02-03"
        ],
        [
         "2007-02-01",
         1.39,
         2007,
         "2025-02-03"
        ],
        [
         "2007-03-01",
         0.38,
         2007,
         "2025-02-03"
        ],
        [
         "2007-04-01",
         0.18,
         2007,
         "2025-02-03"
        ],
        [
         "2007-05-01",
         0.26,
         2007,
         "2025-02-03"
        ],
        [
         "2007-06-01",
         0.23,
         2007,
         "2025-02-03"
        ],
        [
         "2007-07-01",
         0.27,
         2007,
         "2025-02-03"
        ],
        [
         "2007-08-01",
         0.48,
         2007,
         "2025-02-03"
        ],
        [
         "2007-09-01",
         0.2,
         2007,
         "2025-02-03"
        ],
        [
         "2007-10-01",
         0.34,
         2007,
         "2025-02-03"
        ],
        [
         "2007-11-01",
         0.38,
         2007,
         "2025-02-03"
        ],
        [
         "2007-12-01",
         0.47,
         2007,
         "2025-02-03"
        ],
        [
         "2008-01-01",
         0.43,
         2008,
         "2025-02-03"
        ],
        [
         "2008-02-01",
         1.45,
         2008,
         "2025-02-03"
        ],
        [
         "2008-03-01",
         0.3,
         2008,
         "2025-02-03"
        ],
        [
         "2008-04-01",
         0.32,
         2008,
         "2025-02-03"
        ],
        [
         "2008-05-01",
         0.56,
         2008,
         "2025-02-03"
        ],
        [
         "2008-06-01",
         0.4,
         2008,
         "2025-02-03"
        ],
        [
         "2008-07-01",
         0.34,
         2008,
         "2025-02-03"
        ],
        [
         "2008-08-01",
         0.56,
         2008,
         "2025-02-03"
        ],
        [
         "2008-09-01",
         0.55,
         2008,
         "2025-02-03"
        ],
        [
         "2008-10-01",
         0.42,
         2008,
         "2025-02-03"
        ],
        [
         "2008-11-01",
         0.49,
         2008,
         "2025-02-03"
        ],
        [
         "2008-12-01",
         0.39,
         2008,
         "2025-02-03"
        ],
        [
         "2009-01-01",
         0.65,
         2009,
         "2025-02-03"
        ],
        [
         "2009-02-01",
         1.89,
         2009,
         "2025-02-03"
        ],
        [
         "2009-03-01",
         0.06,
         2009,
         "2025-02-03"
        ],
        [
         "2009-04-01",
         0.67,
         2009,
         "2025-02-03"
        ],
        [
         "2009-05-01",
         0.58,
         2009,
         "2025-02-03"
        ],
        [
         "2009-06-01",
         0.38,
         2009,
         "2025-02-03"
        ],
        [
         "2009-07-01",
         0.27,
         2009,
         "2025-02-03"
        ],
        [
         "2009-08-01",
         0.47,
         2009,
         "2025-02-03"
        ],
        [
         "2009-09-01",
         0.36,
         2009,
         "2025-02-03"
        ],
        [
         "2009-10-01",
         0.22,
         2009,
         "2025-02-03"
        ],
        [
         "2009-11-01",
         0.3,
         2009,
         "2025-02-03"
        ],
        [
         "2009-12-01",
         0.34,
         2009,
         "2025-02-03"
        ],
        [
         "2010-01-01",
         0.61,
         2010,
         "2025-02-03"
        ],
        [
         "2010-02-01",
         1.81,
         2010,
         "2025-02-03"
        ],
        [
         "2010-03-01",
         0.72,
         2010,
         "2025-02-03"
        ],
        [
         "2010-04-01",
         0.5,
         2010,
         "2025-02-03"
        ],
        [
         "2010-05-01",
         0.62,
         2010,
         "2025-02-03"
        ],
        [
         "2010-06-01",
         0.41,
         2010,
         "2025-02-03"
        ],
        [
         "2010-07-01",
         0.35,
         2010,
         "2025-02-03"
        ],
        [
         "2010-08-01",
         0.41,
         2010,
         "2025-02-03"
        ],
        [
         "2010-09-01",
         0.41,
         2010,
         "2025-02-03"
        ],
        [
         "2010-10-01",
         0.49,
         2010,
         "2025-02-03"
        ],
        [
         "2010-11-01",
         0.46,
         2010,
         "2025-02-03"
        ],
        [
         "2010-12-01",
         0.58,
         2010,
         "2025-02-03"
        ],
        [
         "2011-01-01",
         0.87,
         2011,
         "2025-02-03"
        ],
        [
         "2011-02-01",
         2.28,
         2011,
         "2025-02-03"
        ],
        [
         "2011-03-01",
         0.85,
         2011,
         "2025-02-03"
        ],
        [
         "2011-04-01",
         0.54,
         2011,
         "2025-02-03"
        ],
        [
         "2011-05-01",
         0.58,
         2011,
         "2025-02-03"
        ],
        [
         "2011-06-01",
         0.6,
         2011,
         "2025-02-03"
        ],
        [
         "2011-07-01",
         0.42,
         2011,
         "2025-02-03"
        ],
        [
         "2011-08-01",
         0.5,
         2011,
         "2025-02-03"
        ],
        [
         "2011-09-01",
         0.51,
         2011,
         "2025-02-03"
        ],
        [
         "2011-10-01",
         0.41,
         2011,
         "2025-02-03"
        ],
        [
         "2011-11-01",
         0.58,
         2011,
         "2025-02-03"
        ],
        [
         "2011-12-01",
         0.51,
         2011,
         "2025-02-03"
        ],
        [
         "2012-01-01",
         1.04,
         2012,
         "2025-02-03"
        ],
        [
         "2012-02-01",
         1.25,
         2012,
         "2025-02-03"
        ],
        [
         "2012-03-01",
         0.52,
         2012,
         "2025-02-03"
        ],
        [
         "2012-04-01",
         0.77,
         2012,
         "2025-02-03"
        ],
        [
         "2012-05-01",
         0.21,
         2012,
         "2025-02-03"
        ],
        [
         "2012-06-01",
         0.52,
         2012,
         "2025-02-03"
        ],
        [
         "2012-07-01",
         0.79,
         2012,
         "2025-02-03"
        ],
        [
         "2012-08-01",
         0.49,
         2012,
         "2025-02-03"
        ],
        [
         "2012-09-01",
         0.51,
         2012,
         "2025-02-03"
        ],
        [
         "2012-10-01",
         0.51,
         2012,
         "2025-02-03"
        ],
        [
         "2012-11-01",
         0.82,
         2012,
         "2025-02-03"
        ],
        [
         "2012-12-01",
         0.98,
         2012,
         "2025-02-03"
        ],
        [
         "2013-10-01",
         0.52,
         2013,
         "2025-02-03"
        ],
        [
         "2013-01-01",
         0.92,
         2013,
         "2025-02-03"
        ],
        [
         "2013-11-01",
         0.65,
         2013,
         "2025-02-03"
        ],
        [
         "2013-02-01",
         1.3,
         2013,
         "2025-02-03"
        ],
        [
         "2013-12-01",
         1.16,
         2013,
         "2025-02-03"
        ],
        [
         "2013-03-01",
         0.26,
         2013,
         "2025-02-03"
        ],
        [
         "2013-04-01",
         0.54,
         2013,
         "2025-02-03"
        ],
        [
         "2013-05-01",
         0.56,
         2013,
         "2025-02-03"
        ],
        [
         "2013-06-01",
         0.64,
         2013,
         "2025-02-03"
        ],
        [
         "2013-07-01",
         0.64,
         2013,
         "2025-02-03"
        ],
        [
         "2013-08-01",
         0.6,
         2013,
         "2025-02-03"
        ],
        [
         "2013-09-01",
         0.63,
         2013,
         "2025-02-03"
        ],
        [
         "2014-01-01",
         0.47,
         2014,
         "2025-02-03"
        ],
        [
         "2014-02-01",
         1.24,
         2014,
         "2025-02-03"
        ],
        [
         "2014-03-01",
         1.09,
         2014,
         "2025-02-03"
        ],
        [
         "2014-04-01",
         0.44,
         2014,
         "2025-02-03"
        ],
        [
         "2014-05-01",
         0.3,
         2014,
         "2025-02-03"
        ],
        [
         "2014-06-01",
         1.1,
         2014,
         "2025-02-03"
        ],
        [
         "2014-07-01",
         -0.05,
         2014,
         "2025-02-03"
        ],
        [
         "2014-08-01",
         0.58,
         2014,
         "2025-02-03"
        ],
        [
         "2014-09-01",
         0.77,
         2014,
         "2025-02-03"
        ],
        [
         "2014-10-01",
         0.43,
         2014,
         "2025-02-03"
        ],
        [
         "2014-11-01",
         0.46,
         2014,
         "2025-02-03"
        ],
        [
         "2014-12-01",
         1.2,
         2014,
         "2025-02-03"
        ],
        [
         "2015-01-01",
         0.87,
         2015,
         "2025-02-03"
        ],
        [
         "2015-02-01",
         1.07,
         2015,
         "2025-02-03"
        ],
        [
         "2015-03-01",
         0.58,
         2015,
         "2025-02-03"
        ],
        [
         "2015-04-01",
         0.72,
         2015,
         "2025-02-03"
        ],
        [
         "2015-05-01",
         0.2,
         2015,
         "2025-02-03"
        ],
        [
         "2015-06-01",
         0.79,
         2015,
         "2025-02-03"
        ],
        [
         "2015-07-01",
         0.54,
         2015,
         "2025-02-03"
        ],
        [
         "2015-08-01",
         0.32,
         2015,
         "2025-02-03"
        ],
        [
         "2015-09-01",
         0.67,
         2015,
         "2025-02-03"
        ],
        [
         "2015-10-01",
         0.62,
         2015,
         "2025-02-03"
        ],
        [
         "2015-11-01",
         0.46,
         2015,
         "2025-02-03"
        ],
        [
         "2015-12-01",
         0.97,
         2015,
         "2025-02-03"
        ],
        [
         "2016-01-01",
         0.66,
         2016,
         "2025-02-03"
        ],
        [
         "2016-02-01",
         1.04,
         2016,
         "2025-02-03"
        ],
        [
         "2016-03-01",
         0.24,
         2016,
         "2025-02-03"
        ],
        [
         "2016-04-01",
         0.58,
         2016,
         "2025-02-03"
        ],
        [
         "2016-05-01",
         0.37,
         2016,
         "2025-02-03"
        ],
        [
         "2016-06-01",
         0.33,
         2016,
         "2025-02-03"
        ],
        [
         "2016-07-01",
         0.62,
         2016,
         "2025-02-03"
        ],
        [
         "2016-08-01",
         0.58,
         2016,
         "2025-02-03"
        ],
        [
         "2016-09-01",
         0.33,
         2016,
         "2025-02-03"
        ],
        [
         "2016-10-01",
         0.47,
         2016,
         "2025-02-03"
        ],
        [
         "2016-11-01",
         0.41,
         2016,
         "2025-02-03"
        ],
        [
         "2016-12-01",
         0.65,
         2016,
         "2025-02-03"
        ],
        [
         "2017-07-01",
         0.33,
         2017,
         "2025-02-03"
        ],
        [
         "2017-01-01",
         0.36,
         2017,
         "2025-02-03"
        ],
        [
         "2017-08-01",
         0.01,
         2017,
         "2025-02-03"
        ],
        [
         "2017-02-01",
         0.84,
         2017,
         "2025-02-03"
        ],
        [
         "2017-09-01",
         0.5,
         2017,
         "2025-02-03"
        ],
        [
         "2017-03-01",
         0.34,
         2017,
         "2025-02-03"
        ],
        [
         "2017-10-01",
         0.37,
         2017,
         "2025-02-03"
        ],
        [
         "2017-04-01",
         0.49,
         2017,
         "2025-02-03"
        ],
        [
         "2017-11-01",
         0.12,
         2017,
         "2025-02-03"
        ],
        [
         "2017-05-01",
         0.05,
         2017,
         "2025-02-03"
        ],
        [
         "2017-12-01",
         0.6,
         2017,
         "2025-02-03"
        ],
        [
         "2017-06-01",
         0.43,
         2017,
         "2025-02-03"
        ],
        [
         "2018-01-01",
         0.16,
         2018,
         "2025-02-03"
        ],
        [
         "2018-02-01",
         0.74,
         2018,
         "2025-02-03"
        ],
        [
         "2018-03-01",
         0.08,
         2018,
         "2025-02-03"
        ],
        [
         "2018-04-01",
         0.03,
         2018,
         "2025-02-03"
        ],
        [
         "2018-05-01",
         -0.09,
         2018,
         "2025-02-03"
        ],
        [
         "2018-06-01",
         0.26,
         2018,
         "2025-02-03"
        ],
        [
         "2018-07-01",
         0.68,
         2018,
         "2025-02-03"
        ],
        [
         "2018-08-01",
         -0.16,
         2018,
         "2025-02-03"
        ],
        [
         "2018-09-01",
         0.4,
         2018,
         "2025-02-03"
        ],
        [
         "2018-10-01",
         0.17,
         2018,
         "2025-02-03"
        ],
        [
         "2018-11-01",
         0.41,
         2018,
         "2025-02-03"
        ],
        [
         "2018-12-01",
         0.62,
         2018,
         "2025-02-03"
        ],
        [
         "2019-01-01",
         0.51,
         2019,
         "2025-02-03"
        ],
        [
         "2019-02-01",
         0.39,
         2019,
         "2025-02-03"
        ],
        [
         "2019-03-01",
         0.33,
         2019,
         "2025-02-03"
        ],
        [
         "2019-04-01",
         0.32,
         2019,
         "2025-02-03"
        ],
        [
         "2019-05-01",
         -0.11,
         2019,
         "2025-02-03"
        ],
        [
         "2019-06-01",
         0.34,
         2019,
         "2025-02-03"
        ],
        [
         "2019-07-01",
         0.46,
         2019,
         "2025-02-03"
        ],
        [
         "2019-08-01",
         0.07,
         2019,
         "2025-02-03"
        ],
        [
         "2019-09-01",
         0.04,
         2019,
         "2025-02-03"
        ],
        [
         "2019-10-01",
         0.19,
         2019,
         "2025-02-03"
        ],
        [
         "2019-11-01",
         0.2,
         2019,
         "2025-02-03"
        ],
        [
         "2019-12-01",
         0.73,
         2019,
         "2025-02-03"
        ],
        [
         "2020-01-01",
         0.28,
         2020,
         "2025-02-03"
        ],
        [
         "2020-02-01",
         0.68,
         2020,
         "2025-02-03"
        ],
        [
         "2020-03-01",
         -0.14,
         2020,
         "2025-02-03"
        ],
        [
         "2020-04-01",
         0.25,
         2020,
         "2025-02-03"
        ],
        [
         "2020-05-01",
         -0.45,
         2020,
         "2025-02-03"
        ],
        [
         "2020-06-01",
         -0.26,
         2020,
         "2025-02-03"
        ],
        [
         "2020-07-01",
         -0.1,
         2020,
         "2025-02-03"
        ],
        [
         "2020-08-01",
         -0.47,
         2020,
         "2025-02-03"
        ],
        [
         "2020-09-01",
         0.17,
         2020,
         "2025-02-03"
        ],
        [
         "2020-10-01",
         0.55,
         2020,
         "2025-02-03"
        ],
        [
         "2020-11-01",
         0.39,
         2020,
         "2025-02-03"
        ],
        [
         "2020-12-01",
         0.83,
         2020,
         "2025-02-03"
        ],
        [
         "2021-04-01",
         0.05,
         2021,
         "2025-02-03"
        ],
        [
         "2021-01-01",
         0.07,
         2021,
         "2025-02-03"
        ],
        [
         "2021-05-01",
         -0.16,
         2021,
         "2025-02-03"
        ],
        [
         "2021-02-01",
         0.55,
         2021,
         "2025-02-03"
        ],
        [
         "2021-06-01",
         0.23,
         2021,
         "2025-02-03"
        ],
        [
         "2021-03-01",
         0.12,
         2021,
         "2025-02-03"
        ],
        [
         "2021-07-01",
         0.67,
         2021,
         "2025-02-03"
        ],
        [
         "2021-08-01",
         0.39,
         2021,
         "2025-02-03"
        ],
        [
         "2021-09-01",
         0.63,
         2021,
         "2025-02-03"
        ],
        [
         "2021-10-01",
         1.04,
         2021,
         "2025-02-03"
        ],
        [
         "2021-11-01",
         0.27,
         2021,
         "2025-02-03"
        ],
        [
         "2021-12-01",
         0.79,
         2021,
         "2025-02-03"
        ],
        [
         "2022-01-01",
         0.39,
         2022,
         "2025-02-03"
        ],
        [
         "2022-02-01",
         1.36,
         2022,
         "2025-02-03"
        ],
        [
         "2022-03-01",
         0.45,
         2022,
         "2025-02-03"
        ],
        [
         "2022-04-01",
         0.66,
         2022,
         "2025-02-03"
        ],
        [
         "2022-05-01",
         0.85,
         2022,
         "2025-02-03"
        ],
        [
         "2022-06-01",
         0.9,
         2022,
         "2025-02-03"
        ],
        [
         "2022-07-01",
         0.8,
         2022,
         "2025-02-03"
        ],
        [
         "2022-08-01",
         0.28,
         2022,
         "2025-02-03"
        ],
        [
         "2022-09-01",
         0.4,
         2022,
         "2025-02-03"
        ],
        [
         "2022-10-01",
         0.67,
         2022,
         "2025-02-03"
        ],
        [
         "2022-11-01",
         0.13,
         2022,
         "2025-02-03"
        ],
        [
         "2022-12-01",
         0.44,
         2022,
         "2025-02-03"
        ],
        [
         "2023-01-01",
         0.6,
         2023,
         "2025-02-03"
        ],
        [
         "2023-02-01",
         1.41,
         2023,
         "2025-02-03"
        ],
        [
         "2023-03-01",
         0.25,
         2023,
         "2025-02-03"
        ],
        [
         "2023-04-01",
         0.52,
         2023,
         "2025-02-03"
        ],
        [
         "2023-05-01",
         -0.06,
         2023,
         "2025-02-03"
        ],
        [
         "2023-06-01",
         0.62,
         2023,
         "2025-02-03"
        ],
        [
         "2023-07-01",
         0.25,
         2023,
         "2025-02-03"
        ],
        [
         "2023-08-01",
         0.08,
         2023,
         "2025-02-03"
        ],
        [
         "2023-09-01",
         0.5,
         2023,
         "2025-02-03"
        ],
        [
         "2023-10-01",
         0.58,
         2023,
         "2025-02-03"
        ],
        [
         "2023-11-01",
         0.7,
         2023,
         "2025-02-03"
        ],
        [
         "2023-12-01",
         0.6,
         2023,
         "2025-02-03"
        ],
        [
         "2024-01-01",
         0.02,
         2024,
         "2025-02-03"
        ],
        [
         "2024-02-01",
         1.05,
         2024,
         "2025-02-03"
        ],
        [
         "2024-03-01",
         0.1,
         2024,
         "2025-02-03"
        ],
        [
         "2024-04-01",
         0.05,
         2024,
         "2025-02-03"
        ],
        [
         "2024-05-01",
         0.4,
         2024,
         "2025-02-03"
        ],
        [
         "2024-06-01",
         0.04,
         2024,
         "2025-02-03"
        ],
        [
         "2024-07-01",
         0.75,
         2024,
         "2025-02-03"
        ],
        [
         "2024-08-01",
         0.24,
         2024,
         "2025-02-03"
        ],
        [
         "2024-09-01",
         0.15,
         2024,
         "2025-02-03"
        ],
        [
         "2024-10-01",
         0.35,
         2024,
         "2025-02-03"
        ],
        [
         "2024-11-01",
         0.83,
         2024,
         "2025-02-03"
        ],
        [
         "2024-12-01",
         0.66,
         2024,
         "2025-02-03"
        ]
       ],
       "datasetInfos": [],
       "dbfsResultPath": null,
       "isJsonSchema": true,
       "metadata": {},
       "overflow": false,
       "plotOptions": {
        "customPlotOptions": {},
        "displayType": "table",
        "pivotAggregation": null,
        "pivotColumns": null,
        "xColumns": null,
        "yColumns": null
       },
       "removedWidgets": [],
       "schema": [
        {
         "metadata": "{}",
         "name": "data",
         "type": "\"date\""
        },
        {
         "metadata": "{}",
         "name": "ipca_mensal",
         "type": "\"double\""
        },
        {
         "metadata": "{}",
         "name": "ano",
         "type": "\"integer\""
        },
        {
         "metadata": "{}",
         "name": "data_importacao",
         "type": "\"date\""
        }
       ],
       "type": "table"
      }
     },
     "output_type": "display_data"
    }
   ],
   "source": [
    "# Carga do dataframe df_API para o Delta Lake com os dados do ipca mensal\n",
    "df_API.write.format(\"delta\").mode(\"overwrite\").saveAsTable(\"IPCA_Mensal\")\n",
    "\n",
    "# Display dos dados do df_API para Downloads\n",
    "display(df_API)"
   ]
  },
  {
   "cell_type": "code",
   "execution_count": 0,
   "metadata": {
    "application/vnd.databricks.v1+cell": {
     "cellMetadata": {
      "byteLimit": 2048000,
      "rowLimit": 10000
     },
     "inputWidgets": {},
     "nuid": "8cba8255-d4f8-4702-8263-0538ce88ba30",
     "showTitle": false,
     "tableResultSettingsMap": {},
     "title": ""
    }
   },
   "outputs": [
    {
     "output_type": "display_data",
     "data": {
      "text/html": [
       "<style scoped>\n",
       "  .table-result-container {\n",
       "    max-height: 300px;\n",
       "    overflow: auto;\n",
       "  }\n",
       "  table, th, td {\n",
       "    border: 1px solid black;\n",
       "    border-collapse: collapse;\n",
       "  }\n",
       "  th, td {\n",
       "    padding: 5px;\n",
       "  }\n",
       "  th {\n",
       "    text-align: left;\n",
       "  }\n",
       "</style><div class='table-result-container'><table class='table-result'><thead style='background-color: white'><tr><th>data_importacao</th><th>ano</th><th>ipca_acumulado</th></tr></thead><tbody><tr><td>2025-02-03</td><td>1995</td><td>55.7</td></tr><tr><td>2025-02-03</td><td>1996</td><td>18.76</td></tr><tr><td>2025-02-03</td><td>1997</td><td>6.2</td></tr><tr><td>2025-02-03</td><td>1998</td><td>1.55</td></tr><tr><td>2025-02-03</td><td>1999</td><td>1.34</td></tr><tr><td>2025-02-03</td><td>2000</td><td>3.12</td></tr><tr><td>2025-02-03</td><td>2001</td><td>4.86</td></tr><tr><td>2025-02-03</td><td>2002</td><td>5.54</td></tr><tr><td>2025-02-03</td><td>2003</td><td>7.31</td></tr><tr><td>2025-02-03</td><td>2004</td><td>6.65</td></tr><tr><td>2025-02-03</td><td>2005</td><td>6.76</td></tr><tr><td>2025-02-03</td><td>2006</td><td>5.48</td></tr><tr><td>2025-02-03</td><td>2007</td><td>5.17</td></tr><tr><td>2025-02-03</td><td>2008</td><td>6.38</td></tr><tr><td>2025-02-03</td><td>2009</td><td>6.35</td></tr><tr><td>2025-02-03</td><td>2010</td><td>7.61</td></tr><tr><td>2025-02-03</td><td>2011</td><td>8.98</td></tr><tr><td>2025-02-03</td><td>2012</td><td>8.73</td></tr><tr><td>2025-02-03</td><td>2013</td><td>8.74</td></tr><tr><td>2025-02-03</td><td>2014</td><td>8.32</td></tr><tr><td>2025-02-03</td><td>2015</td><td>8.09</td></tr><tr><td>2025-02-03</td><td>2016</td><td>6.46</td></tr><tr><td>2025-02-03</td><td>2017</td><td>4.52</td></tr><tr><td>2025-02-03</td><td>2018</td><td>3.34</td></tr><tr><td>2025-02-03</td><td>2019</td><td>3.52</td></tr><tr><td>2025-02-03</td><td>2020</td><td>1.73</td></tr><tr><td>2025-02-03</td><td>2021</td><td>4.74</td></tr><tr><td>2025-02-03</td><td>2022</td><td>7.57</td></tr><tr><td>2025-02-03</td><td>2023</td><td>6.21</td></tr><tr><td>2025-02-03</td><td>2024</td><td>4.73</td></tr></tbody></table></div>"
      ]
     },
     "metadata": {
      "application/vnd.databricks.v1+output": {
       "addedWidgets": {},
       "aggData": [],
       "aggError": "",
       "aggOverflow": false,
       "aggSchema": [],
       "aggSeriesLimitReached": false,
       "aggType": "",
       "arguments": {},
       "columnCustomDisplayInfos": {},
       "data": [
        [
         "2025-02-03",
         1995,
         55.7
        ],
        [
         "2025-02-03",
         1996,
         18.76
        ],
        [
         "2025-02-03",
         1997,
         6.2
        ],
        [
         "2025-02-03",
         1998,
         1.55
        ],
        [
         "2025-02-03",
         1999,
         1.34
        ],
        [
         "2025-02-03",
         2000,
         3.12
        ],
        [
         "2025-02-03",
         2001,
         4.86
        ],
        [
         "2025-02-03",
         2002,
         5.54
        ],
        [
         "2025-02-03",
         2003,
         7.31
        ],
        [
         "2025-02-03",
         2004,
         6.65
        ],
        [
         "2025-02-03",
         2005,
         6.76
        ],
        [
         "2025-02-03",
         2006,
         5.48
        ],
        [
         "2025-02-03",
         2007,
         5.17
        ],
        [
         "2025-02-03",
         2008,
         6.38
        ],
        [
         "2025-02-03",
         2009,
         6.35
        ],
        [
         "2025-02-03",
         2010,
         7.61
        ],
        [
         "2025-02-03",
         2011,
         8.98
        ],
        [
         "2025-02-03",
         2012,
         8.73
        ],
        [
         "2025-02-03",
         2013,
         8.74
        ],
        [
         "2025-02-03",
         2014,
         8.32
        ],
        [
         "2025-02-03",
         2015,
         8.09
        ],
        [
         "2025-02-03",
         2016,
         6.46
        ],
        [
         "2025-02-03",
         2017,
         4.52
        ],
        [
         "2025-02-03",
         2018,
         3.34
        ],
        [
         "2025-02-03",
         2019,
         3.52
        ],
        [
         "2025-02-03",
         2020,
         1.73
        ],
        [
         "2025-02-03",
         2021,
         4.74
        ],
        [
         "2025-02-03",
         2022,
         7.57
        ],
        [
         "2025-02-03",
         2023,
         6.21
        ],
        [
         "2025-02-03",
         2024,
         4.73
        ]
       ],
       "datasetInfos": [],
       "dbfsResultPath": null,
       "isJsonSchema": true,
       "metadata": {},
       "overflow": false,
       "plotOptions": {
        "customPlotOptions": {},
        "displayType": "table",
        "pivotAggregation": null,
        "pivotColumns": null,
        "xColumns": null,
        "yColumns": null
       },
       "removedWidgets": [],
       "schema": [
        {
         "metadata": "{}",
         "name": "data_importacao",
         "type": "\"date\""
        },
        {
         "metadata": "{}",
         "name": "ano",
         "type": "\"integer\""
        },
        {
         "metadata": "{}",
         "name": "ipca_acumulado",
         "type": "\"double\""
        }
       ],
       "type": "table"
      }
     },
     "output_type": "display_data"
    }
   ],
   "source": [
    "# Carga do dataframe df_Acumulado_Anual para o Delta Lake com os dados do ipca anual acumulado\n",
    "df_Acumulado_Anual.write.format(\"delta\").mode(\"overwrite\").saveAsTable(\"IPCA_Anual\")\n",
    "\n",
    "# Display dos dados do df_Acumulado_Anual para Downloads\n",
    "display(df_Acumulado_Anual)"
   ]
  }
 ],
 "metadata": {
  "application/vnd.databricks.v1+notebook": {
   "computePreferences": null,
   "dashboards": [],
   "environmentMetadata": null,
   "language": "python",
   "notebookMetadata": {
    "mostRecentlyExecutedCommandWithImplicitDF": {
     "commandId": -1,
     "dataframes": [
      "_sqldf"
     ]
    },
    "pythonIndentUnit": 4
   },
   "notebookName": "Analise_IPCA",
   "widgets": {}
  },
  "kernelspec": {
   "display_name": "Python 3 (ipykernel)",
   "language": "python",
   "name": "python3"
  },
  "language_info": {
   "codemirror_mode": {
    "name": "ipython",
    "version": 3
   },
   "file_extension": ".py",
   "mimetype": "text/x-python",
   "name": "python",
   "nbconvert_exporter": "python",
   "pygments_lexer": "ipython3",
   "version": "3.10.12"
  }
 },
 "nbformat": 4,
 "nbformat_minor": 0
}
